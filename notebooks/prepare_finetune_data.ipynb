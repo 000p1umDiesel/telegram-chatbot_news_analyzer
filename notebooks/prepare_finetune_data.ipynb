{
  "cells": [
    {
      "cell_type": "raw",
      "metadata": {
        "vscode": {
          "languageId": "raw"
        }
      },
      "source": [
        "# 📊 Подготовка данных для Kaggle\n",
        "\n",
        "Этот notebook извлекает данные из PostgreSQL и подготавливает их для загрузки в Kaggle.\n",
        "\n",
        "**Запускается:** На вашем компьютере  \n",
        "**Результат:** Файлы для загрузки в Kaggle  \n",
        "**Следующий шаг:** Загрузить созданные файлы в Kaggle и запустить обучение\n"
      ]
    },
    {
      "cell_type": "code",
      "execution_count": 1,
      "metadata": {},
      "outputs": [
        {
          "name": "stdout",
          "output_type": "stream",
          "text": [
            "📦 Импорты готовы\n"
          ]
        }
      ],
      "source": [
        "# Импорты\n",
        "import asyncio\n",
        "import asyncpg\n",
        "import pandas as pd\n",
        "import json\n",
        "import os\n",
        "from datetime import datetime\n",
        "from pathlib import Path\n",
        "\n",
        "print(\"📦 Импорты готовы\")"
      ]
    },
    {
      "cell_type": "code",
      "execution_count": 8,
      "metadata": {},
      "outputs": [
        {
          "name": "stdout",
          "output_type": "stream",
          "text": [
            "📁 Папка для экспорта: ./kaggle_dataset\n"
          ]
        }
      ],
      "source": [
        "# Конфигурация подключения к БД\n",
        "DB_CONFIG = {\n",
        "    \"host\": \"localhost\",\n",
        "    \"port\": 5432,\n",
        "    \"database\": \"news_analyzer\",\n",
        "    \"user\": \"staspalatov\",\n",
        "    \"password\": \"2004стас\",\n",
        "}\n",
        "\n",
        "# Настройки экспорта для Kaggle\n",
        "OUTPUT_DIR = \"./kaggle_dataset\"\n",
        "MAX_SAMPLES = 10000\n",
        "\n",
        "os.makedirs(OUTPUT_DIR, exist_ok=True)\n",
        "print(f\"📁 Папка для экспорта: {OUTPUT_DIR}\")"
      ]
    },
    {
      "cell_type": "code",
      "execution_count": 12,
      "metadata": {},
      "outputs": [
        {
          "name": "stdout",
          "output_type": "stream",
          "text": [
            "🔌 Подключение к PostgreSQL...\n",
            "📊 Загружаем данные (макс. 10000)...\n",
            "✅ Загружено 127 записей\n"
          ]
        }
      ],
      "source": [
        "# Загрузка данных из PostgreSQL\n",
        "async def load_training_data():\n",
        "    \"\"\"Загружает данные для обучения из PostgreSQL\"\"\"\n",
        "\n",
        "    try:\n",
        "        print(\"🔌 Подключение к PostgreSQL...\")\n",
        "        conn = await asyncpg.connect(**DB_CONFIG)\n",
        "\n",
        "        query = \"\"\"\n",
        "        SELECT \n",
        "            m.text,\n",
        "            a.hashtags,\n",
        "            a.sentiment,\n",
        "            m.channel_title\n",
        "        FROM messages m\n",
        "        JOIN analyses a ON m.message_id = a.message_id\n",
        "        WHERE \n",
        "            LENGTH(m.text) BETWEEN 50 AND 2000\n",
        "            AND a.hashtags IS NOT NULL\n",
        "            AND a.hashtags != '[]'\n",
        "            AND a.hashtags != 'null'\n",
        "            AND jsonb_array_length(a.hashtags::jsonb) BETWEEN 2 AND 10\n",
        "        ---    AND m.text NOT LIKE '%@%'\n",
        "        ---    AND m.text NOT LIKE '%http%'\n",
        "        ORDER BY m.date DESC\n",
        "        LIMIT $1\n",
        "        \"\"\"\n",
        "\n",
        "        print(f\"📊 Загружаем данные (макс. {MAX_SAMPLES})...\")\n",
        "        rows = await conn.fetch(query, MAX_SAMPLES)\n",
        "        await conn.close()\n",
        "\n",
        "        print(f\"✅ Загружено {len(rows)} записей\")\n",
        "        return rows\n",
        "\n",
        "    except Exception as e:\n",
        "        print(f\"❌ Ошибка подключения: {e}\")\n",
        "        print(\"💡 Убедитесь, что PostgreSQL запущен и доступен\")\n",
        "        return []\n",
        "\n",
        "\n",
        "# Загружаем данные\n",
        "raw_data = await load_training_data()"
      ]
    },
    {
      "cell_type": "code",
      "execution_count": 14,
      "metadata": {},
      "outputs": [
        {
          "name": "stdout",
          "output_type": "stream",
          "text": [
            "✅ Подготовлено 127 примеров\n"
          ]
        }
      ],
      "source": [
        "# Обработка и форматирование данных\n",
        "def prepare_training_examples(raw_data):\n",
        "    \"\"\"Подготавливает примеры в формате для Saiga LLaMA3\"\"\"\n",
        "\n",
        "    training_examples = []\n",
        "    system_prompt = \"Ты эксперт по генерации хештегов для новостей. Сгенерируй 3-5 релевантных хештегов на русском языке.\"\n",
        "\n",
        "    for row in raw_data:\n",
        "        try:\n",
        "            hashtags = json.loads(row[\"hashtags\"])\n",
        "            hashtags_str = \", \".join(hashtags)\n",
        "\n",
        "            # Формат ChatML для Saiga LLaMA3\n",
        "            full_prompt = f\"<s>system\\n{system_prompt}</s>\\n<s>user\\n{row['text']}</s>\\n<s>assistant\\n{hashtags_str}</s>\"\n",
        "\n",
        "            training_examples.append(\n",
        "                {\n",
        "                    \"text\": full_prompt,\n",
        "                    \"input\": row[\"text\"],\n",
        "                    \"output\": hashtags_str,\n",
        "                    \"channel\": row[\"channel_title\"],\n",
        "                    \"sentiment\": row[\"sentiment\"],\n",
        "                }\n",
        "            )\n",
        "\n",
        "        except Exception as e:\n",
        "            print(f\"⚠️ Ошибка обработки записи: {e}\")\n",
        "            continue\n",
        "\n",
        "    print(f\"✅ Подготовлено {len(training_examples)} примеров\")\n",
        "    return training_examples\n",
        "\n",
        "\n",
        "# Подготавливаем примеры\n",
        "if raw_data:\n",
        "    training_examples = prepare_training_examples(raw_data)\n",
        "else:\n",
        "    print(\"❌ Нет данных для обработки\")\n",
        "    training_examples = []"
      ]
    },
    {
      "cell_type": "code",
      "execution_count": 15,
      "metadata": {},
      "outputs": [
        {
          "name": "stdout",
          "output_type": "stream",
          "text": [
            "📊 Разделение: 101 train, 26 test\n",
            "\n",
            "🎉 Данные сохранены в ./kaggle_dataset/\n",
            "📄 Файлы:\n",
            "   - train_data.jsonl (101 записей)\n",
            "   - test_data.jsonl (26 записей)\n",
            "   - config.json\n",
            "   - README.md\n"
          ]
        }
      ],
      "source": [
        "# Сохранение данных для Kaggle\n",
        "def save_for_kaggle(training_examples):\n",
        "    \"\"\"Сохраняет данные в формате для загрузки в Kaggle\"\"\"\n",
        "\n",
        "    if not training_examples:\n",
        "        print(\"❌ Нет данных для сохранения\")\n",
        "        return\n",
        "\n",
        "    # Разделение на train/test\n",
        "    split_idx = int(len(training_examples) * 0.8)\n",
        "    train_data = training_examples[:split_idx]\n",
        "    test_data = training_examples[split_idx:]\n",
        "\n",
        "    print(f\"📊 Разделение: {len(train_data)} train, {len(test_data)} test\")\n",
        "\n",
        "    # Сохранение JSONL файлов\n",
        "    train_file = Path(OUTPUT_DIR) / \"train_data.jsonl\"\n",
        "    test_file = Path(OUTPUT_DIR) / \"test_data.jsonl\"\n",
        "\n",
        "    with open(train_file, \"w\", encoding=\"utf-8\") as f:\n",
        "        for item in train_data:\n",
        "            f.write(json.dumps(item, ensure_ascii=False) + \"\\n\")\n",
        "\n",
        "    with open(test_file, \"w\", encoding=\"utf-8\") as f:\n",
        "        for item in test_data:\n",
        "            f.write(json.dumps(item, ensure_ascii=False) + \"\\n\")\n",
        "\n",
        "    # Конфигурация для Kaggle\n",
        "    config = {\n",
        "        \"dataset_info\": {\n",
        "            \"total_samples\": len(training_examples),\n",
        "            \"train_samples\": len(train_data),\n",
        "            \"test_samples\": len(test_data),\n",
        "            \"created_at\": datetime.now().isoformat(),\n",
        "        },\n",
        "        \"model_config\": {\n",
        "            \"base_model\": \"IlyaGusev/saiga_llama3_8b\",\n",
        "            \"task\": \"hashtag_generation\",\n",
        "            \"format\": \"ChatML\",\n",
        "        },\n",
        "        \"training_config\": {\n",
        "            \"epochs\": 3,\n",
        "            \"batch_size\": 4,\n",
        "            \"learning_rate\": 2e-4,\n",
        "            \"lora_r\": 16,\n",
        "            \"lora_alpha\": 32,\n",
        "        },\n",
        "    }\n",
        "\n",
        "    config_file = Path(OUTPUT_DIR) / \"config.json\"\n",
        "    with open(config_file, \"w\", encoding=\"utf-8\") as f:\n",
        "        json.dump(config, f, ensure_ascii=False, indent=2)\n",
        "\n",
        "    # README для Kaggle\n",
        "    readme_content = f\"\"\"# Датасет для дообучения Saiga LLaMA3\n",
        "\n",
        "## 📊 Информация\n",
        "- Всего записей: {len(training_examples)}\n",
        "- Обучающих: {len(train_data)}\n",
        "- Тестовых: {len(test_data)}\n",
        "\n",
        "## 📁 Файлы\n",
        "- `train_data.jsonl` - обучающие данные\n",
        "- `test_data.jsonl` - тестовые данные  \n",
        "- `config.json` - конфигурация обучения\n",
        "\n",
        "## 🚀 Использование в Kaggle\n",
        "Загрузите эти файлы как dataset в Kaggle и используйте notebook для обучения.\n",
        "\"\"\"\n",
        "\n",
        "    readme_file = Path(OUTPUT_DIR) / \"README.md\"\n",
        "    with open(readme_file, \"w\", encoding=\"utf-8\") as f:\n",
        "        f.write(readme_content)\n",
        "\n",
        "    print(f\"\\n🎉 Данные сохранены в {OUTPUT_DIR}/\")\n",
        "    print(f\"📄 Файлы:\")\n",
        "    print(f\"   - train_data.jsonl ({len(train_data)} записей)\")\n",
        "    print(f\"   - test_data.jsonl ({len(test_data)} записей)\")\n",
        "    print(f\"   - config.json\")\n",
        "    print(f\"   - README.md\")\n",
        "\n",
        "    return {\n",
        "        \"train_samples\": len(train_data),\n",
        "        \"test_samples\": len(test_data),\n",
        "        \"total_samples\": len(training_examples),\n",
        "    }\n",
        "\n",
        "\n",
        "# Сохраняем данные\n",
        "result = save_for_kaggle(training_examples)"
      ]
    },
    {
      "cell_type": "raw",
      "metadata": {
        "vscode": {
          "languageId": "raw"
        }
      },
      "source": [
        "# ✅ Готово!\n",
        "\n",
        "Данные подготовлены и сохранены в папке `./kaggle_dataset/`\n",
        "\n",
        "## 🚀 Следующие шаги:\n",
        "\n",
        "1. **Загрузите созданные файлы в Kaggle** как новый dataset\n",
        "2. **Используйте notebook для обучения** (kaggle_finetuning.ipynb)\n",
        "3. **После обучения интегрируйте модель в Ollama** (следуйте KAGGLE_TO_OLLAMA_GUIDE.md)\n",
        "\n",
        "## 📁 Созданные файлы:\n",
        "- `train_data.jsonl` - обучающие данные\n",
        "- `test_data.jsonl` - тестовые данные\n",
        "- `config.json` - конфигурация\n",
        "- `README.md` - описание датасета\n"
      ]
    }
  ],
  "metadata": {
    "kernelspec": {
      "display_name": "project",
      "language": "python",
      "name": "python3"
    },
    "language_info": {
      "codemirror_mode": {
        "name": "ipython",
        "version": 3
      },
      "file_extension": ".py",
      "mimetype": "text/x-python",
      "name": "python",
      "nbconvert_exporter": "python",
      "pygments_lexer": "ipython3",
      "version": "3.12.0"
    }
  },
  "nbformat": 4,
  "nbformat_minor": 2
}
